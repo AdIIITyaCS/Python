{
 "cells": [
  {
   "cell_type": "code",
   "execution_count": 2,
   "id": "21c632eb",
   "metadata": {},
   "outputs": [],
   "source": [
    "import numpy as np"
   ]
  },
  {
   "cell_type": "code",
   "execution_count": null,
   "id": "6634fd1a",
   "metadata": {},
   "outputs": [
    {
     "name": "stdout",
     "output_type": "stream",
     "text": [
      "[1 2 3]\n",
      "[[1 2 3]\n",
      " [2 3 5]]\n",
      "[[ 1  2  3]\n",
      " [ 2  5  3]\n",
      " [34  3  2]]\n"
     ]
    }
   ],
   "source": [
    "# python array using numpy\n",
    "arr_1d=np.array([1,2,3])\n",
    "print(arr_1d)\n",
    "arr_2d=np.array([[1,2,3],[2,3,5]])\n",
    "print(arr_2d)\n",
    "arr_3d=np.array([[1,2,3],[2,5,3],[34,3,2]])\n",
    "print(arr_3d)"
   ]
  },
  {
   "cell_type": "code",
   "execution_count": 8,
   "id": "f3bc9081",
   "metadata": {},
   "outputs": [
    {
     "name": "stdout",
     "output_type": "stream",
     "text": [
      "Python X  [1, 2, 4, 1, 2, 4]\n",
      "Numpy X  [3 6 9]\n"
     ]
    }
   ],
   "source": [
    "# numpy array and python array\n",
    "py_list=[1,2,4]\n",
    "print(\"Python X \",py_list * 2)\n",
    "np_array=np.array([1,2,3])\n",
    "print(\"Numpy X \",np_array * 3)"
   ]
  },
  {
   "cell_type": "code",
   "execution_count": 10,
   "id": "20b43c0f",
   "metadata": {},
   "outputs": [
    {
     "name": "stdout",
     "output_type": "stream",
     "text": [
      "Python takes  0.1184396743774414\n",
      "Numpy takes  0.05750393867492676\n"
     ]
    }
   ],
   "source": [
    "import time as t\n",
    "start= t.time()\n",
    "py_mul=[i*2 for i in range(1000000)]\n",
    "print(\"Python takes \",t.time()-start)\n",
    "\n",
    "start1 =t.time()\n",
    "np_array=np.arange(10000000)*2\n",
    "print(\"Numpy takes \",t.time()-start1)"
   ]
  },
  {
   "cell_type": "code",
   "execution_count": 20,
   "id": "663eadc9",
   "metadata": {},
   "outputs": [
    {
     "name": "stdout",
     "output_type": "stream",
     "text": [
      "Zeros Matrix\n",
      " [[0. 0. 0.]\n",
      " [0. 0. 0.]]\n",
      "Ones Matrix\n",
      " [[1. 1. 1. 1.]\n",
      " [1. 1. 1. 1.]]\n",
      "full Array\n",
      " [[7 7 7]\n",
      " [7 7 7]]\n"
     ]
    }
   ],
   "source": [
    "# creating array in numpy\n",
    "zeros=np.zeros((2,3))\n",
    "print(\"Zeros Matrix\\n\",zeros)\n",
    "ones=np.ones((2,4))\n",
    "print(\"Ones Matrix\\n\",ones)\n",
    "full=np.full((2,3),7)\n",
    "print(\"full Array\\n\", full)"
   ]
  },
  {
   "cell_type": "code",
   "execution_count": 25,
   "id": "e2f152f6",
   "metadata": {},
   "outputs": [
    {
     "name": "stdout",
     "output_type": "stream",
     "text": [
      "Random Matrix\n",
      " [[0.17540719 0.79669476 0.55340055 0.77197448 0.01685646]\n",
      " [0.18931818 0.17003176 0.74610116 0.34478939 0.27562161]\n",
      " [0.67125637 0.13720844 0.35393879 0.63669561 0.41091598]\n",
      " [0.65369211 0.79577774 0.08999495 0.19158381 0.71988566]]\n",
      "Sequence Array\n",
      " [0 2 4 6 8]\n"
     ]
    }
   ],
   "source": [
    "random= np.random.random((4,5))\n",
    "print(\"Random Matrix\\n\",random)\n",
    "sequence=np.arange(0,10,2)\n",
    "print(\"Sequence Array\\n\",sequence)"
   ]
  },
  {
   "cell_type": "code",
   "execution_count": null,
   "id": "7a9967b4",
   "metadata": {},
   "outputs": [
    {
     "name": "stdout",
     "output_type": "stream",
     "text": [
      "Vector\n",
      " [1 2 3]\n",
      "Matrix\n",
      " [[ 1  2  3  4]\n",
      " [ 3  4  5  2]\n",
      " [24  5  6  3]]\n",
      "Tensor\n",
      " [[[1 2]\n",
      "  [3 4]]\n",
      "\n",
      " [[4 3]\n",
      "  [6 9]]]\n"
     ]
    }
   ],
   "source": [
    "# vector, matrix and tensor(no. of array)\n",
    "vector= np.array([1,2,3])\n",
    "print(\"Vector\\n\",vector)\n",
    "matrix=np.matrix([[1,2,3,4],[3,4,5,2],[24,5,6,3]])\n",
    "print(\"Matrix\\n\" , matrix)\n",
    "\n",
    "tensor=np.array([[[1,2],[3,4]],[[4,3],[6,9]]])\n",
    "print(\"Tensor\\n\",tensor)"
   ]
  },
  {
   "cell_type": "code",
   "execution_count": 3,
   "id": "f45853e5",
   "metadata": {},
   "outputs": [
    {
     "name": "stdout",
     "output_type": "stream",
     "text": [
      "Shape (2, 3)\n",
      "Dimension 2\n",
      "Datatype int64\n",
      "Shape (2, 2, 2)\n",
      "Dimension 3\n",
      "Datatype int64\n"
     ]
    }
   ],
   "source": [
    "# array properties\n",
    "arr=np.array([[1,2,3],[3,45,6]])\n",
    "print(\"Shape\",arr.shape)\n",
    "print(\"Dimension\",arr.ndim)\n",
    "print(\"Datatype\",arr.dtype )\n",
    "arr1=np.array([[[1,2],[3,4]],[[4,3],[6,9]]])\n",
    "print(\"Shape\",arr1.shape)\n",
    "print(\"Dimension\",arr1.ndim)\n",
    "print(\"Datatype\",arr1.dtype )"
   ]
  },
  {
   "cell_type": "code",
   "execution_count": 18,
   "id": "d3298e28",
   "metadata": {},
   "outputs": [
    {
     "name": "stdout",
     "output_type": "stream",
     "text": [
      "Original Array\n",
      " [ 0  1  2  3  4  5  6  7  8  9 10 11]\n",
      "Reshaped\n",
      " [[ 0  1  2]\n",
      " [ 3  4  5]\n",
      " [ 6  7  8]\n",
      " [ 9 10 11]]\n",
      "Flattened\n",
      " [ 0  1  2  3  4  5  6  7  8  9 10 11]\n",
      "[[ 0  1  2]\n",
      " [ 3  4  5]\n",
      " [ 6  7  8]\n",
      " [ 9 10 11]]\n",
      "Reveled\n",
      " [ 0  1  2  3  4  5  6  7  8  9 10 11]\n",
      "[[ 0  1  2]\n",
      " [ 3  4  5]\n",
      " [ 6  7  8]\n",
      " [ 9 10 11]]\n",
      "Transposed\n",
      " [[ 0  3  6  9]\n",
      " [ 1  4  7 10]\n",
      " [ 2  5  8 11]]\n"
     ]
    }
   ],
   "source": [
    "#  array reshaping\n",
    "arr=np.arange(12)\n",
    "print(\"Original Array\\n\", arr)\n",
    "reshaped= arr.reshape(4,3)\n",
    "\n",
    "\n",
    "# here the .reshape will modify the original array in different order\n",
    "print(\"Reshaped\\n\",reshaped)\n",
    "flattened=reshaped.flatten()\n",
    "# it will stretch out the array in 1d array. it works on copy\n",
    "print(\"Flattened\\n\",flattened)\n",
    "print(reshaped)\n",
    "raveled=reshaped.ravel()\n",
    "# it works on main copy\n",
    "print(\"Reveled\\n\",raveled)\n",
    "print(reshaped)\n",
    "transpose= reshaped.T\n",
    "print(\"Transposed\\n\", transpose)\n"
   ]
  },
  {
   "cell_type": "code",
   "execution_count": 16,
   "id": "e5a15eba",
   "metadata": {},
   "outputs": [
    {
     "name": "stdout",
     "output_type": "stream",
     "text": [
      "Original array:\n",
      " [  0 888   2   3   4   5   6   7   8   9  10  11]\n",
      "Reshaped array:\n",
      " [[  0 888   2]\n",
      " [  3   4   5]\n",
      " [  6   7   8]\n",
      " [  9  10  11]]\n",
      "Flattened array:\n",
      " [999   1   2   3   4   5   6   7   8   9  10  11]\n",
      "Raveled array:\n",
      " [  0 888   2   3   4   5   6   7   8   9  10  11]\n"
     ]
    }
   ],
   "source": [
    "arr = np.arange(12)\n",
    "reshaped = arr.reshape(4, 3)\n",
    "\n",
    "flattened = reshaped.flatten()\n",
    "raveled = reshaped.ravel()\n",
    "\n",
    "# Modify both\n",
    "flattened[0] = 999\n",
    "raveled[1] = 888\n",
    "\n",
    "print(\"Original array:\\n\", arr)\n",
    "print(\"Reshaped array:\\n\", reshaped)\n",
    "print(\"Flattened array:\\n\", flattened)\n",
    "print(\"Raveled array:\\n\", raveled)\n"
   ]
  },
  {
   "cell_type": "code",
   "execution_count": null,
   "id": "ffb40f8b",
   "metadata": {},
   "outputs": [],
   "source": []
  }
 ],
 "metadata": {
  "kernelspec": {
   "display_name": "Python 3",
   "language": "python",
   "name": "python3"
  },
  "language_info": {
   "codemirror_mode": {
    "name": "ipython",
    "version": 3
   },
   "file_extension": ".py",
   "mimetype": "text/x-python",
   "name": "python",
   "nbconvert_exporter": "python",
   "pygments_lexer": "ipython3",
   "version": "3.12.2"
  }
 },
 "nbformat": 4,
 "nbformat_minor": 5
}
