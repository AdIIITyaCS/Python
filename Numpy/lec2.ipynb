{
 "cells": [
  {
   "cell_type": "markdown",
   "id": "8bca5bb6",
   "metadata": {},
   "source": [
    "### Numpy Array Operation\n",
    "\n"
   ]
  },
  {
   "cell_type": "code",
   "execution_count": 1,
   "id": "555c9d8c",
   "metadata": {},
   "outputs": [],
   "source": [
    "import numpy as np"
   ]
  },
  {
   "cell_type": "code",
   "execution_count": 4,
   "id": "94ccc089",
   "metadata": {},
   "outputs": [
    {
     "name": "stdout",
     "output_type": "stream",
     "text": [
      "ARRAY\n",
      " [1 2 3 4 4 5 5]\n",
      "BASIC SLICING\n",
      " [1 2 3 4 4 5 5]\n",
      "BASIC SLICING\n",
      " [1 3 4 5]\n",
      "BASIC SLICING\n",
      " [5 5 4 4 3 2 1]\n"
     ]
    }
   ],
   "source": [
    "arr= np.array([1,2,3,4,4,5,5])\n",
    "print(\"ARRAY\\n\", arr)\n",
    "print(\"BASIC SLICING\\n\", arr[:])\n",
    "print(\"BASIC SLICING\\n\", arr[::2])\n",
    "print(\"BASIC SLICING\\n\", arr[::-1])"
   ]
  },
  {
   "cell_type": "code",
   "execution_count": 10,
   "id": "94fb0a47",
   "metadata": {},
   "outputs": [
    {
     "name": "stdout",
     "output_type": "stream",
     "text": [
      "2d ARRAY \n",
      " [[1 2 3 4]\n",
      " [2 3 4 5]\n",
      " [4 5 6 7]]\n",
      "Specific Element:  4\n",
      "Specific Element:  [3 4 6]\n",
      "2d ARRAY SLICING \n",
      " [[1 2 3 4]\n",
      " [2 3 4 5]\n",
      " [4 5 6 7]]\n",
      "2d ARRAY SLICING \n",
      " [[4 5 6 7]\n",
      " [1 2 3 4]]\n"
     ]
    }
   ],
   "source": [
    "arr_2d=np.array([[1,2,3,4],[2,3,4,5],[4,5,6,7]])\n",
    "print(\"2d ARRAY \\n\",arr_2d)\n",
    "print(\"Specific Element: \",arr_2d[1,2])\n",
    "print(\"Specific Element: \",arr_2d[:,2])\n",
    "print(\"2d ARRAY SLICING \\n\",arr_2d[::])\n",
    "print(\"2d ARRAY SLICING \\n\",arr_2d[::-2])"
   ]
  },
  {
   "cell_type": "markdown",
   "id": "5d32a23a",
   "metadata": {},
   "source": [
    "# Sorting"
   ]
  },
  {
   "cell_type": "code",
   "execution_count": 24,
   "id": "f993e304",
   "metadata": {},
   "outputs": [
    {
     "name": "stdout",
     "output_type": "stream",
     "text": [
      "Sorted Array\n",
      " [ 3  5  6 42]\n",
      "Array 2D\n",
      " [[ 1 23  5]\n",
      " [13  4  7]\n",
      " [12 17  2]]\n",
      "After Sorted via column \n",
      " [[ 1  4  2]\n",
      " [12 17  5]\n",
      " [13 23  7]]\n",
      "After Sorted via row \n",
      " [[ 1  5 23]\n",
      " [ 4  7 13]\n",
      " [ 2 12 17]]\n"
     ]
    }
   ],
   "source": [
    "unsorted=np.array([3,42,5,6])\n",
    "print(\"Sorted Array\\n\", np.sort(unsorted))\n",
    "\n",
    "arr_2d_unsorted=np.array([[1,23,5],[13,4,7],[12,17,2]])\n",
    "print(\"Array 2D\\n\", arr_2d_unsorted)\n",
    "print(\"After Sorted via column \\n\",np.sort(arr_2d_unsorted,axis=0))\n",
    "print(\"After Sorted via row \\n\",np.sort(arr_2d_unsorted,axis=1))"
   ]
  },
  {
   "cell_type": "markdown",
   "id": "7d74e2fe",
   "metadata": {},
   "source": [
    "## Filter"
   ]
  },
  {
   "cell_type": "code",
   "execution_count": 29,
   "id": "157a61af",
   "metadata": {},
   "outputs": [
    {
     "name": "stdout",
     "output_type": "stream",
     "text": [
      "Array\n",
      " [1 3 6 2 7 8]\n",
      "Even no. in Array\n",
      " [6 2 8]\n"
     ]
    }
   ],
   "source": [
    "num= np.array([1,3,6,2,7,8])\n",
    "print(\"Array\\n\",num)\n",
    "print(\"Even no. in Array\\n\",num[num %2==0]) #Since this is numpy , it provides us flexibility to use expressions in '...' at arr[...] which helps to find the even or odd no. in array directly \n"
   ]
  },
  {
   "cell_type": "markdown",
   "id": "2c06d051",
   "metadata": {},
   "source": [
    "## Filter with Mask"
   ]
  },
  {
   "cell_type": "code",
   "execution_count": 31,
   "id": "2829eb8d",
   "metadata": {},
   "outputs": [
    {
     "name": "stdout",
     "output_type": "stream",
     "text": [
      "Numbers greater than 5  [6 7 8]\n",
      "Numbers greater than 5  [1 3 6 2 7]\n"
     ]
    }
   ],
   "source": [
    "mask=num>5 \n",
    "print(\"Numbers greater than 5 \", num[mask])\n",
    "print(\"Numbers greater than 5 \", num[num<8])"
   ]
  },
  {
   "cell_type": "markdown",
   "id": "3d4559f6",
   "metadata": {},
   "source": [
    "## Fancy indexing vs np.where()"
   ]
  },
  {
   "cell_type": "code",
   "execution_count": 33,
   "id": "a7f85494",
   "metadata": {},
   "outputs": [
    {
     "name": "stdout",
     "output_type": "stream",
     "text": [
      "[1 2 7]\n",
      "[6 7 8]\n"
     ]
    }
   ],
   "source": [
    "indices=[0,3,4]\n",
    "print(num[indices])\n",
    "where_result=np.where(num>4)\n",
    "print(num[where_result])"
   ]
  },
  {
   "cell_type": "markdown",
   "id": "a4fac3f3",
   "metadata": {},
   "source": []
  },
  {
   "cell_type": "code",
   "execution_count": 36,
   "id": "a715c854",
   "metadata": {},
   "outputs": [
    {
     "name": "stdout",
     "output_type": "stream",
     "text": [
      "Condition Array\n",
      " [ 1  3 18  2 21 24]\n"
     ]
    }
   ],
   "source": [
    "condition_array=np.where(num>5,num*3,num) # based on the true condition it returns 2nd arg else 3rd and checks each of element\n",
    "print(\"Condition Array\\n\",condition_array)"
   ]
  },
  {
   "cell_type": "markdown",
   "id": "5aff29f8",
   "metadata": {},
   "source": [
    "## Adding data and removing it"
   ]
  },
  {
   "cell_type": "code",
   "execution_count": 42,
   "id": "9c784c00",
   "metadata": {},
   "outputs": [
    {
     "name": "stdout",
     "output_type": "stream",
     "text": [
      "[ 5  5  6 28]\n",
      "[ 1  2  3  4  4  3  3 24]\n"
     ]
    }
   ],
   "source": [
    "arr1=np.array([1,2,3,4])\n",
    "arr2=np.array([4,3,3,24])\n",
    "print(arr1+arr2)  #normal addition operation\n",
    "combined=np.concatenate((arr1,arr2))  # combining both array\n",
    "print(combined)"
   ]
  },
  {
   "cell_type": "markdown",
   "id": "ff5b3ee2",
   "metadata": {},
   "source": [
    "## Array Compatible"
   ]
  },
  {
   "cell_type": "code",
   "execution_count": 46,
   "id": "8886368a",
   "metadata": {},
   "outputs": [
    {
     "name": "stdout",
     "output_type": "stream",
     "text": [
      "Compatible Test\n",
      " False\n"
     ]
    }
   ],
   "source": [
    "arr1=np.array([1,2,3,4])\n",
    "arr2=np.array([1,12,30])\n",
    "arr3=np.array([1,2,23,42])\n",
    "print(\"Compatible Test\\n\", arr1.shape==arr2.shape)"
   ]
  },
  {
   "cell_type": "code",
   "execution_count": null,
   "id": "a5fab746",
   "metadata": {},
   "outputs": [
    {
     "name": "stdout",
     "output_type": "stream",
     "text": [
      "Original Array\n",
      " [1 7 5]\n",
      "With New data Array\n",
      " [[1 7 5]\n",
      " [1 2 3]]\n",
      "Oringinal Array\n",
      " [[1 2]\n",
      " [2 3]\n",
      " [4 7]]\n",
      "With New data Array\n",
      " [[1 2 1]\n",
      " [2 3 3]\n",
      " [4 7 7]]\n"
     ]
    }
   ],
   "source": [
    "arr=np.array([1,7,5])\n",
    "print(\"Original Array\\n\",arr)\n",
    "new_row=np.array([1,2,3])\n",
    "with_new_data=np.vstack((arr,new_row)) #vstack adds new row\n",
    "print(\"With New data Array\\n\",with_new_data)\n",
    "\n",
    "arr1=np.array([[1,2],[2,3],[4,7]])\n",
    "print(\"Oringinal Array\\n\",arr1)\n",
    "new_column=np.array([[1],[3],[7]])\n",
    "with_new_data=np.hstack((arr1,new_column)) #hstack adds new column\n",
    "print(\"With New data Array\\n\",with_new_data)"
   ]
  },
  {
   "cell_type": "code",
   "execution_count": 53,
   "id": "0ec925d9",
   "metadata": {},
   "outputs": [
    {
     "name": "stdout",
     "output_type": "stream",
     "text": [
      "Before Deletion Array\n",
      " [1 2 3 4 5]\n",
      "Array after deletion\n",
      " [1 2 3 5]\n"
     ]
    }
   ],
   "source": [
    "arr=np.array([1,2,3,4,5])\n",
    "print(\"Before Deletion Array\\n\",arr)\n",
    "new_array=np.delete(arr,3)\n",
    "print(\"Array after deletion\\n\",new_array)"
   ]
  }
 ],
 "metadata": {
  "kernelspec": {
   "display_name": "Python 3",
   "language": "python",
   "name": "python3"
  },
  "language_info": {
   "codemirror_mode": {
    "name": "ipython",
    "version": 3
   },
   "file_extension": ".py",
   "mimetype": "text/x-python",
   "name": "python",
   "nbconvert_exporter": "python",
   "pygments_lexer": "ipython3",
   "version": "3.12.2"
  }
 },
 "nbformat": 4,
 "nbformat_minor": 5
}
